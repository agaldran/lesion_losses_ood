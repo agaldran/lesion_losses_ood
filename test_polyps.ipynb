{
 "cells": [
  {
   "cell_type": "code",
   "execution_count": 1,
   "id": "d8903092",
   "metadata": {},
   "outputs": [],
   "source": [
    "import sys, json, os, argparse\n",
    "import warnings\n",
    "from skimage.io import imsave, imread\n",
    "from skimage import img_as_ubyte\n",
    "import os.path as osp\n",
    "import pandas as pd\n",
    "from tqdm import tqdm\n",
    "from tqdm import trange\n",
    "import numpy as np\n",
    "import torch\n",
    "from models.get_model import get_arch\n",
    "from utils.get_loaders import get_inference_seg_loader\n",
    "\n",
    "from utils.model_saving_loading import str2bool, load_model\n",
    "from utils.reproducibility import set_seeds\n",
    "from scipy.ndimage import binary_fill_holes as bfh\n",
    "from skimage.transform import resize\n",
    "from skimage import img_as_float\n",
    "from skimage.segmentation import find_boundaries\n",
    "from skimage.color import gray2rgb, label2rgb\n",
    "from skimage.morphology import dilation, square\n",
    "from scipy.ndimage import zoom\n",
    "from skimage.measure import label"
   ]
  },
  {
   "cell_type": "code",
   "execution_count": 2,
   "id": "b44faea7",
   "metadata": {},
   "outputs": [],
   "source": [
    "import matplotlib.pyplot as plt\n",
    "from skimage.filters import threshold_otsu as threshold"
   ]
  },
  {
   "cell_type": "code",
   "execution_count": 3,
   "id": "c9372608",
   "metadata": {},
   "outputs": [],
   "source": [
    "def dice_score(actual, predicted):\n",
    "# If the ground truth has a lesion and the prediction does not, the score is 0. False negative case.\n",
    "# If the ground truth has no lesion and the prediction has a lesion, the score 0. False positive case. \n",
    "# If the ground truth has no lesion and the prediction has no lesion, the score is 1. True negative case. \n",
    "    actual = np.asarray(actual).astype(bool)\n",
    "    predicted = np.asarray(predicted).astype(bool)\n",
    "    im_sum = actual.sum() + predicted.sum()\n",
    "    \n",
    "    if actual.sum() != 0 and predicted.sum() == 0: return 0 \n",
    "    if actual.sum() == 0 and predicted.sum() != 0: return 0\n",
    "    if im_sum == 0: return 1\n",
    "    \n",
    "    intersection = np.logical_and(actual, predicted)\n",
    "    return 2. * intersection.sum() / im_sum"
   ]
  },
  {
   "cell_type": "code",
   "execution_count": 4,
   "id": "a1877b08",
   "metadata": {},
   "outputs": [],
   "source": [
    "def mark_boundaries_ad(image, label_img, color=(1, 1, 0), outline_color=None, rad=8, mode='outer', background_label=0):\n",
    "    marked = img_as_float(image, force_copy=True)\n",
    "    if marked.ndim == 2:\n",
    "        marked = gray2rgb(marked)\n",
    "    if mode == 'subpixel':\n",
    "        # Here, we want to interpose an extra line of pixels between\n",
    "        # each original line - except for the last axis which holds\n",
    "        # the RGB information. ``ndi.zoom`` then performs the (cubic)\n",
    "        # interpolation, filling in the values of the interposed pixels\n",
    "        marked = zoom(marked, [2 - 1/s for s in marked.shape[:-1]] + [1], mode='reflect')\n",
    "    boundaries = find_boundaries(label_img, mode=mode,\n",
    "                                 background=background_label)\n",
    "    if outline_color is not None:\n",
    "        outlines = dilation(boundaries, square(rad))\n",
    "        marked[outlines] = outline_color\n",
    "    marked[boundaries] = color\n",
    "    return marked"
   ]
  },
  {
   "cell_type": "code",
   "execution_count": 5,
   "id": "6b5a4996",
   "metadata": {},
   "outputs": [],
   "source": [
    "from skimage.io import imsave\n",
    "from skimage import img_as_ubyte\n",
    "from skimage.transform import resize\n",
    "from skimage import io"
   ]
  },
  {
   "cell_type": "code",
   "execution_count": 6,
   "id": "14526e49",
   "metadata": {},
   "outputs": [],
   "source": [
    "def print_cv_results(base_path):\n",
    "    avg_dice, avg_std = np.zeros((5,)), np.zeros((5,))\n",
    "    for fold in range(5):\n",
    "        file_name = osp.join(base_path + str(fold+1), 'val_metrics.txt')\n",
    "        f = open(file_name, \"r\").read()\n",
    "        dsc = f.split('|')[1].split(',')[0]\n",
    "        dsc_avg = float(dsc[:5])\n",
    "        dsc_std = float(dsc[-5:])\n",
    "        \n",
    "        avg_dice[fold] = dsc_avg\n",
    "        avg_std[fold] = dsc_std\n",
    "    print('Average DSC = {:.2f}+/-{:.2f}'.format(avg_dice.mean(), avg_dice.std()))"
   ]
  },
  {
   "cell_type": "code",
   "execution_count": 7,
   "id": "a456f2f0",
   "metadata": {},
   "outputs": [],
   "source": [
    "def evaluate_test_preds(model, list_folders, test_loader):\n",
    "    print('* Evaluating test predictions')\n",
    "    use_cuda = torch.cuda.is_available()\n",
    "    device = torch.device(\"cuda:0\" if use_cuda else \"cpu\")\n",
    "    checkpoint_list = [osp.join(l, 'model_checkpoint.pth') for l in list_folders]\n",
    "    states = [torch.load(c, map_location=device) for c in checkpoint_list]\n",
    "    print('* States loaded')\n",
    "    \n",
    "    with torch.no_grad():\n",
    "        model.to(device)\n",
    "        \n",
    "        dice_scores = []\n",
    "        tq_loader = tqdm(enumerate(test_loader), total=len(test_loader))\n",
    "          \n",
    "        rejected = 0\n",
    "        for i_batch, (inputs, targets, _, _) in tq_loader:\n",
    "            ensembled_probs = []\n",
    "            inputs = inputs.to(device)\n",
    "            for state in states:\n",
    "                model.load_state_dict(state['model_state_dict'])\n",
    "                model.eval()\n",
    "\n",
    "                logits = model(inputs)\n",
    "                probs = logits.sigmoid().detach().cpu()        \n",
    "                ensembled_probs.append(probs)\n",
    "\n",
    "            probs = torch.mean(torch.stack(ensembled_probs, dim=0), dim=0)   \n",
    "\n",
    "            for j in range(len(probs)):\n",
    "                segmentation = probs[j].numpy()[0]\n",
    "                target = targets[j].numpy()     \n",
    "                segmentation_bin = segmentation > 0.5\n",
    "            \n",
    "                d = dice_score(target>0.5, segmentation_bin)\n",
    "                dice_scores.append(d)\n",
    "\n",
    "                if np.count_nonzero(segmentation_bin) == 0:\n",
    "                    rejected += 1\n",
    "        return np.mean(dice_scores), rejected/len(test_loader.dataset)"
   ]
  },
  {
   "cell_type": "code",
   "execution_count": 9,
   "id": "09c56822",
   "metadata": {},
   "outputs": [],
   "source": [
    "def print_all(NAME, model_name):\n",
    "    list_folders = os.listdir('experiments/endotect')\n",
    "    list_folders = sorted([osp.join('experiments/endotect', n) for n in list_folders if NAME in n])\n",
    "\n",
    "    ll_only_ce = [n for n in list_folders if 'only_ce' in n]\n",
    "    ll_ce_combo_dice = [n for n in list_folders if 'ce_combo_dice' in n]\n",
    "    ll_ce_linear_dice = [n for n in list_folders if 'ce_linear_dice' in n]\n",
    "    ll_ce_finetune_dice = [n for n in list_folders if 'ce_finetune_dice' in n]\n",
    "    ll_only_dice = [n for n in list_folders if 'only_dice' in n]\n",
    "    \n",
    "    print('--- 5-FOLD CROSS-VALIDATION AVERAGE RESULTS ----')\n",
    "    print('only_ce:')\n",
    "    print_cv_results(ll_only_ce[0][:-1])\n",
    "    \n",
    "    print('only_dice:')\n",
    "    print_cv_results(ll_only_dice[0][:-1])  \n",
    "\n",
    "    print('ce - ft - dice:')\n",
    "    print_cv_results(ll_ce_finetune_dice[0][:-1])\n",
    "    \n",
    "    print('ce - lin - dice:')\n",
    "    print_cv_results(ll_ce_linear_dice[0][:-1])\n",
    "    \n",
    "    print('ce+dice:')\n",
    "    print_cv_results(ll_ce_combo_dice[0][:-1])\n",
    "\n",
    "   \n",
    "    bs = 4\n",
    "    im_size = 480,640\n",
    "    tg_size = (im_size[0], im_size[1])\n",
    "    n_classes = 1\n",
    "    print('* Instantiating a {} model'.format(model_name))\n",
    "    model, mean, std = get_arch(model_name, n_classes=n_classes, pretrained=False)\n",
    "    model.mode = 'eval'\n",
    "\n",
    "    data_source = 'data_endotect/test.csv'\n",
    "    test_loader = get_inference_seg_loader(data_source, batch_size=bs, mean=mean, std=std, tg_size=tg_size)\n",
    "    \n",
    "    print(50*'*')\n",
    "    avg_dice, rejected_pctg = evaluate_test_preds(model, ll_only_ce, test_loader)\n",
    "    print('ONLY CE: Average dice with OoD data = {:.3f} - \\\n",
    "    Percentage of rejected images = {:.3f}'.format(100*avg_dice, 100*rejected_pctg))\n",
    "    print(50*'*')\n",
    "    \n",
    "    avg_dice, rejected_pctg = evaluate_test_preds(model, ll_only_dice, test_loader)\n",
    "    print('ONLY DICE: Average dice with OoD data = {:.3f} - \\\n",
    "    Percentage of rejected images = {:.3f}'.format(100*avg_dice, 100*rejected_pctg))\n",
    "    print(50*'*')\n",
    "\n",
    "    avg_dice, rejected_pctg = evaluate_test_preds(model, ll_ce_finetune_dice, test_loader)\n",
    "    print('CE ft DICE: Average dice with OoD data = {:.3f} - \\\n",
    "    Percentage of rejected images = {:.3f}'.format(100*avg_dice, 100*rejected_pctg))\n",
    "    print(50*'*')\n",
    "\n",
    "    avg_dice, rejected_pctg = evaluate_test_preds(model, ll_ce_linear_dice, test_loader)\n",
    "    print('CE lin DICE: Average dice with OoD data = {:.3f} - \\\n",
    "    Percentage of rejected images = {:.3f}'.format(100*avg_dice, 100*rejected_pctg))\n",
    "    print(50*'*')\n",
    "    \n",
    "    avg_dice, rejected_pctg = evaluate_test_preds(model, ll_ce_combo_dice, test_loader)\n",
    "    print('CE+DICE: Average dice with OoD data = {:.3f} - \\\n",
    "    Percentage of rejected images = {:.3f}'.format(100*avg_dice, 100*rejected_pctg))\n",
    "    print(50*'*')"
   ]
  },
  {
   "cell_type": "markdown",
   "id": "aa3c6316",
   "metadata": {},
   "source": [
    "## Resnet18"
   ]
  },
  {
   "cell_type": "code",
   "execution_count": 10,
   "id": "954feaf0",
   "metadata": {},
   "outputs": [
    {
     "name": "stdout",
     "output_type": "stream",
     "text": [
      "--- 5-FOLD CROSS-VALIDATION AVERAGE RESULTS ----\n",
      "only_ce:\n",
      "Average DSC = 89.19+/-1.18\n",
      "only_dice:\n",
      "Average DSC = 88.83+/-1.04\n",
      "ce - ft - dice:\n",
      "Average DSC = 89.06+/-1.30\n",
      "ce - lin - dice:\n",
      "Average DSC = 89.76+/-1.12\n",
      "ce+dice:\n",
      "Average DSC = 89.81+/-1.16\n",
      "* Instantiating a fpnet_resnet18_W model\n",
      "**************************************************\n",
      "* Evaluating test predictions\n",
      "* States loaded\n"
     ]
    },
    {
     "name": "stderr",
     "output_type": "stream",
     "text": [
      "100%|████████████████████████████████████████████████████████████████| 55/55 [00:12<00:00,  4.26it/s]\n"
     ]
    },
    {
     "name": "stdout",
     "output_type": "stream",
     "text": [
      "ONLY CE: Average dice with OoD data = 87.333 -     Percentage of rejected images = 6.364\n",
      "**************************************************\n",
      "* Evaluating test predictions\n",
      "* States loaded\n"
     ]
    },
    {
     "name": "stderr",
     "output_type": "stream",
     "text": [
      "100%|████████████████████████████████████████████████████████████████| 55/55 [00:12<00:00,  4.38it/s]\n"
     ]
    },
    {
     "name": "stdout",
     "output_type": "stream",
     "text": [
      "ONLY DICE: Average dice with OoD data = 81.914 -     Percentage of rejected images = 1.818\n",
      "**************************************************\n",
      "* Evaluating test predictions\n",
      "* States loaded\n"
     ]
    },
    {
     "name": "stderr",
     "output_type": "stream",
     "text": [
      "100%|████████████████████████████████████████████████████████████████| 55/55 [00:12<00:00,  4.38it/s]\n"
     ]
    },
    {
     "name": "stdout",
     "output_type": "stream",
     "text": [
      "CE ft DICE: Average dice with OoD data = 86.616 -     Percentage of rejected images = 5.909\n",
      "**************************************************\n",
      "* Evaluating test predictions\n",
      "* States loaded\n"
     ]
    },
    {
     "name": "stderr",
     "output_type": "stream",
     "text": [
      "100%|████████████████████████████████████████████████████████████████| 55/55 [00:12<00:00,  4.36it/s]\n"
     ]
    },
    {
     "name": "stdout",
     "output_type": "stream",
     "text": [
      "CE lin DICE: Average dice with OoD data = 86.939 -     Percentage of rejected images = 5.455\n",
      "**************************************************\n",
      "* Evaluating test predictions\n",
      "* States loaded\n"
     ]
    },
    {
     "name": "stderr",
     "output_type": "stream",
     "text": [
      "100%|████████████████████████████████████████████████████████████████| 55/55 [00:12<00:00,  4.36it/s]"
     ]
    },
    {
     "name": "stdout",
     "output_type": "stream",
     "text": [
      "CE+DICE: Average dice with OoD data = 84.889 -     Percentage of rejected images = 4.091\n",
      "**************************************************\n"
     ]
    },
    {
     "name": "stderr",
     "output_type": "stream",
     "text": [
      "\n"
     ]
    }
   ],
   "source": [
    "NAME = 'resnet18'\n",
    "model_name = 'fpnet_resnet18_W'\n",
    "print_all(NAME, model_name)"
   ]
  },
  {
   "cell_type": "markdown",
   "id": "ddc4c9bc",
   "metadata": {},
   "source": [
    "## MobileNet"
   ]
  },
  {
   "cell_type": "code",
   "execution_count": null,
   "id": "e5e5862e",
   "metadata": {},
   "outputs": [],
   "source": [
    "NAME = 'mobilenet'\n",
    "model_name = 'fpnet_mobilenet_W'\n",
    "print_all(NAME, model_name)"
   ]
  },
  {
   "cell_type": "markdown",
   "id": "6f6e3868",
   "metadata": {},
   "source": [
    "## Resnet34"
   ]
  },
  {
   "cell_type": "code",
   "execution_count": null,
   "id": "49f414ac",
   "metadata": {},
   "outputs": [],
   "source": [
    "NAME = 'resnet34'\n",
    "model_name = 'fpnet_resnet34_W'\n",
    "print_all(NAME, model_name)"
   ]
  },
  {
   "cell_type": "markdown",
   "id": "6559aa4b",
   "metadata": {},
   "source": [
    "## Resnet50"
   ]
  },
  {
   "cell_type": "code",
   "execution_count": null,
   "id": "6420aa9e",
   "metadata": {},
   "outputs": [],
   "source": [
    "NAME = 'resnet50'\n",
    "model_name = 'fpnet_resnet50_W'\n",
    "print_all(NAME, model_name)"
   ]
  },
  {
   "cell_type": "markdown",
   "id": "3258f20b",
   "metadata": {},
   "source": [
    "## Resnext50"
   ]
  },
  {
   "cell_type": "code",
   "execution_count": null,
   "id": "e3f1d0eb",
   "metadata": {},
   "outputs": [],
   "source": [
    "NAME = 'resnext50'\n",
    "model_name = 'fpnet_resnext50_W_imagenet'\n",
    "print_all(NAME, model_name)"
   ]
  },
  {
   "cell_type": "markdown",
   "id": "de635474",
   "metadata": {},
   "source": [
    "## Resnet101"
   ]
  },
  {
   "cell_type": "code",
   "execution_count": null,
   "id": "d355e356",
   "metadata": {},
   "outputs": [],
   "source": [
    "NAME = 'resnet101'\n",
    "model_name = 'fpnet_resnet101_W'\n",
    "print_all(NAME, model_name)"
   ]
  },
  {
   "cell_type": "markdown",
   "id": "c6001ccc",
   "metadata": {},
   "source": [
    "## Resnext101"
   ]
  },
  {
   "cell_type": "code",
   "execution_count": null,
   "id": "e384fef0",
   "metadata": {},
   "outputs": [],
   "source": [
    "NAME = 'resnext101'\n",
    "model_name = 'fpnet_resnext101_32x4d_W_ssl'\n",
    "print_all(NAME, model_name)"
   ]
  },
  {
   "cell_type": "markdown",
   "id": "49f76690",
   "metadata": {},
   "source": [
    "## Resnet152"
   ]
  },
  {
   "cell_type": "code",
   "execution_count": null,
   "id": "0c82f435",
   "metadata": {},
   "outputs": [],
   "source": [
    "NAME = 'resnet152'\n",
    "model_name = 'fpnet_resnet152_W'\n",
    "print_all(NAME, model_name)"
   ]
  }
 ],
 "metadata": {
  "kernelspec": {
   "display_name": "Python [conda env:pytorch] *",
   "language": "python",
   "name": "conda-env-pytorch-py"
  },
  "language_info": {
   "codemirror_mode": {
    "name": "ipython",
    "version": 3
   },
   "file_extension": ".py",
   "mimetype": "text/x-python",
   "name": "python",
   "nbconvert_exporter": "python",
   "pygments_lexer": "ipython3",
   "version": "3.10.4"
  }
 },
 "nbformat": 4,
 "nbformat_minor": 5
}
